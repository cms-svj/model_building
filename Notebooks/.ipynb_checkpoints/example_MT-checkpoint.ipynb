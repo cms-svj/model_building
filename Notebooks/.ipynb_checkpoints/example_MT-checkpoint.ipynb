{
 "cells": [
  {
   "cell_type": "code",
   "execution_count": 3,
   "id": "56f87943",
   "metadata": {},
   "outputs": [],
   "source": [
    "import awkward as ak\n",
    "import numpy as np\n",
    "import hist\n",
    "import matplotlib as mpl\n",
    "import matplotlib.pyplot as plt\n",
    "import mplhep as hep\n",
    "from coffea.nanoevents import NanoEventsFactory, DelphesSchema\n",
    "DelphesSchema.mixins[\"FatJet\"] = \"Jet\""
   ]
  },
  {
   "cell_type": "code",
   "execution_count": 4,
   "id": "41b07aec",
   "metadata": {},
   "outputs": [],
   "source": [
    "samples = [\n",
    "    {\"name\": \"CMS\", \"model\": \"s-channel_mmed-1000_Nc-2_Nf-2_scale-35.1539_mq-10_mpi-20_mrho-20_pvector-0.75_spectrum-cms_rinv-0.3\"},\n",
    "    {\"name\": \"Snowmass\", \"model\": \"s-channel_mmed-1000_Nc-3_Nf-3_scale-10_mq-10.119_mpi-6_mrho-25.0998_pvector-0.5_spectrum-snowmass_rinv-0.777778\"},\n",
    "    {\"name\": \"Snowmass_cmslike\", \"model\": \"s-channel_mmed-1000_Nc-3_Nf-3_scale-33.3333_mq-33.73_mpi-20_mrho-83.666_pvector-0.5_spectrum-snowmass_rinv-0.3\"}\n",
    "]"
   ]
  },
  {
   "cell_type": "code",
   "execution_count": 5,
   "id": "7468190d",
   "metadata": {},
   "outputs": [],
   "source": [
    "# load data and metadata\n",
    "import sys\n",
    "sys.path.append('..')\n",
    "\n",
    "from svjHelper import svjHelper\n",
    "for sample in samples:\n",
    "    path = f'../models/{sample[\"model\"]}'\n",
    "    sample[\"helper\"] = svjHelper.build(f'{path}/config.py')\n",
    "    metadict = sample[\"helper\"].metadata()\n",
    "    metadict[\"dataset\"] = sample[\"name\"]\n",
    "    sample[\"events\"] = NanoEventsFactory.from_root(\n",
    "        file=f'{path}/events.root',\n",
    "        treepath=\"Delphes\",\n",
    "        schemaclass=DelphesSchema,\n",
    "        metadata=metadict,\n",
    "    ).events()"
   ]
  },
  {
   "cell_type": "code",
   "execution_count": 6,
   "id": "1ce37e18",
   "metadata": {},
   "outputs": [],
   "source": [
    "# apply basic selections and compute derived quantities\n",
    "for sample in samples:\n",
    "    events = sample[\"events\"]\n",
    "    # require two jets\n",
    "    mask = ak.num(events.FatJet)>=2\n",
    "    events = events[mask]\n",
    "    # transverse mass calculation\n",
    "    events[\"Dijet\"] = events.FatJet[:,0]+events.FatJet[:,1]\n",
    "    def ET(vec):\n",
    "        return np.sqrt(vec.px**2+vec.py**2+vec.mass**2)\n",
    "    E1 = ET(events.Dijet)\n",
    "    E2 = events.MissingET.MET\n",
    "    MTsq = (E1+E2)**2-(events.Dijet.px+events.MissingET.px)**2-(events.Dijet.py+events.MissingET.py)\n",
    "    events[\"MT\"] = np.sqrt(MTsq, where=MTsq>=0)\n",
    "    # store modified events array\n",
    "    sample[\"events\"] = events"
   ]
  },
  {
   "cell_type": "code",
   "execution_count": 7,
   "id": "2b7b9409",
   "metadata": {},
   "outputs": [],
   "source": [
    "# helper functions to fill histograms\n",
    "\n",
    "def get_values(var,sample):\n",
    "    return ak.flatten(sample[\"events\"][var],axis=None)\n",
    "\n",
    "def fill_hist(var,nbins,bmin,bmax,label,samples):\n",
    "    hists = {}\n",
    "    for sample in samples:\n",
    "        h = (\n",
    "            hist.Hist.new\n",
    "            .Reg(nbins, bmin, bmax, label=label)\n",
    "            .Double()\n",
    "        )\n",
    "        h.fill(get_values(var,sample),weight=0.5)\n",
    "        hists[sample[\"name\"]] = h\n",
    "    return hists"
   ]
  },
  {
   "cell_type": "code",
   "execution_count": 8,
   "id": "0148d052",
   "metadata": {},
   "outputs": [],
   "source": [
    "# stylistic options\n",
    "\n",
    "mpl.rcParams.update({\n",
    "    \"axes.labelsize\" : 18,\n",
    "    \"legend.fontsize\" : 16,\n",
    "    \"xtick.labelsize\" : 14,\n",
    "    \"ytick.labelsize\" : 14,\n",
    "    \"font.size\" : 18,\n",
    "    \"legend.frameon\": True,\n",
    "})\n",
    "# based on https://github.com/mpetroff/accessible-color-cycles\n",
    "# red, blue, mauve, orange, purple, gray, \n",
    "colors = [\"#e42536\", \"#5790fc\", \"#964a8b\", \"#f89c20\", \"#7a21dd\", \"#9c9ca1\"]\n",
    "mpl.rcParams['axes.prop_cycle'] = mpl.cycler(color=colors)"
   ]
  },
  {
   "cell_type": "code",
   "execution_count": 9,
   "id": "58ac297b",
   "metadata": {},
   "outputs": [],
   "source": [
    "# helper to make a plot\n",
    "\n",
    "def make_plot(hname,hists):\n",
    "    fig, ax = plt.subplots(figsize=(8,6))\n",
    "    for l,h in hists.items():\n",
    "        hep.histplot(h,density=True,ax=ax,label=l)\n",
    "    ax.set_xlim(h.axes[0].edges[0],h.axes[0].edges[-1])\n",
    "    ax.set_yscale(\"log\")\n",
    "    ax.set_ylabel(\"Arbitury Unit\")\n",
    "    ax.legend(framealpha=0.5)\n",
    "    plt.savefig('{}.pdf'.format(hname),bbox_inches='tight')"
   ]
  },
  {
   "cell_type": "code",
   "execution_count": 10,
   "id": "8de833d9",
   "metadata": {},
   "outputs": [
    {
     "data": {
      "image/png": "[encoded data removed]",
      "text/plain": [
       "<Figure size 576x432 with 1 Axes>"
      ]
     },
     "metadata": {
      "needs_background": "light"
     },
     "output_type": "display_data"
    }
   ],
   "source": [
    "# plot transverse mass\n",
    "hists_mt = fill_hist(\"MT\",25,0,1500,r\"$m_{\\text{T}}$ [GeV]\",samples)\n",
    "make_plot(\"MT\",hists_mt)"
   ]
  },
  {
   "cell_type": "code",
   "execution_count": null,
   "id": "93a957ef",
   "metadata": {},
   "outputs": [],
   "source": []
  }
 ],
 "metadata": {
  "kernelspec": {
   "display_name": "Python 3 (ipykernel)",
   "language": "python",
   "name": "python3"
  },
  "language_info": {
   "codemirror_mode": {
    "name": "ipython",
    "version": 3
   },
   "file_extension": ".py",
   "mimetype": "text/x-python",
   "name": "python",
   "nbconvert_exporter": "python",
   "pygments_lexer": "ipython3",
   "version": "3.9.12"
  }
 },
 "nbformat": 4,
 "nbformat_minor": 5
}
