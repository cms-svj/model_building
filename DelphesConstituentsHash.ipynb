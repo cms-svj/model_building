{
 "cells": [
  {
   "cell_type": "code",
   "execution_count": 1,
   "id": "56f87943",
   "metadata": {},
   "outputs": [],
   "source": [
    "import awkward as ak\n",
    "import numpy as np\n",
    "import numba as nb\n",
    "import hist\n",
    "import matplotlib as mpl\n",
    "import matplotlib.pyplot as plt\n",
    "import mplhep as hep\n",
    "from common import load_events, DelphesSchema"
   ]
  },
  {
   "cell_type": "code",
   "execution_count": 2,
   "id": "2de6c6fe",
   "metadata": {},
   "outputs": [],
   "source": [
    "class DelphesSchema2(DelphesSchema):\n",
    "    def __init__(self, base_form):\n",
    "        for key in list(base_form[\"contents\"].keys()):\n",
    "            if \"fBits\" in key:\n",
    "                base_form[\"contents\"].pop(key, None)\n",
    "        super().__init__(base_form)"
   ]
  },
  {
   "cell_type": "code",
   "execution_count": 3,
   "id": "7468190d",
   "metadata": {},
   "outputs": [],
   "source": [
    "# load data\n",
    "events = load_events(\n",
    "    \"models/s-channel_mmed-1000_Nc-2_Nf-2_scale-35.1539_mq-10_mpi-20_mrho-20_pvector-0.75_spectrum-cms_rinv-0.3/events.root\",\n",
    "    schema=DelphesSchema2,\n",
    ")"
   ]
  },
  {
   "cell_type": "code",
   "execution_count": 4,
   "id": "2c7db642",
   "metadata": {},
   "outputs": [],
   "source": [
    "@nb.njit\n",
    "def get_constituents_kernel(jets, cands):\n",
    "    # get hash table mapping global index : global unique ID\n",
    "    hash_table = {k:v for v,k in enumerate(cands.fUniqueID)}\n",
    "\n",
    "    output = []\n",
    "    for jet in jets:\n",
    "        # apply hash map\n",
    "        translated = [hash_table[ref] for ref in jet.Constituents.refs]\n",
    "        output.append(translated)\n",
    "\n",
    "    return output\n",
    "\n",
    "def get_constituents(events, jetsname, candsname):\n",
    "    output = None\n",
    "    ctr = 0\n",
    "    for jets,cands in zip(events[jetsname], events[candsname]):\n",
    "        #print(ctr)\n",
    "        #ctr+=1\n",
    "        indices = get_constituents_kernel(jets, cands) if jets is not None else []\n",
    "        if len(indices)==0:\n",
    "            unflattened = None\n",
    "        else:\n",
    "            unflattened = ak.unflatten(cands[ak.flatten(indices)],ak.count(indices,axis=1),behavior=cands.behavior)[None]\n",
    "        if output is None:\n",
    "            output = unflattened # add first dimension\n",
    "        else:\n",
    "            output = ak.concatenate([output,unflattened])\n",
    "    return ak.with_name(output, \"Particle\")"
   ]
  },
  {
   "cell_type": "code",
   "execution_count": 5,
   "id": "251dc5bc",
   "metadata": {},
   "outputs": [
    {
     "name": "stderr",
     "output_type": "stream",
     "text": [
      "/tmp/ipykernel_2600354/121641287.py:9: NumbaTypeSafetyWarning: \u001b[1m\u001b[1m\u001b[1munsafe cast from int64 to uint32. Precision may be lost.\u001b[0m\u001b[0m\u001b[0m\n",
      "  translated = [hash_table[ref] for ref in jet.Constituents.refs]\n"
     ]
    },
    {
     "name": "stdout",
     "output_type": "stream",
     "text": [
      "2min 33s ± 0 ns per loop (mean ± std. dev. of 1 run, 1 loop each)\n"
     ]
    }
   ],
   "source": [
    "%%timeit -n 1 -r 1\n",
    "events[\"FatJet\",\"ConstituentsFull\"] = get_constituents(events,\"FatJet\",\"ParticleFlowCandidate\")"
   ]
  },
  {
   "cell_type": "code",
   "execution_count": 6,
   "id": "4fd4f063",
   "metadata": {},
   "outputs": [
    {
     "name": "stdout",
     "output_type": "stream",
     "text": [
      "[[0.000565, 1.43e-06, -3.81e-06], [1.91e-05, ... [0.000404, 6.1e-05, 0.000409]]\n"
     ]
    }
   ],
   "source": [
    "def sum_4vec(vec):\n",
    "    summed_vec = {\n",
    "        \"t\": ak.sum(vec.E,axis=-1),\n",
    "        \"x\": ak.sum(vec.px,axis=-1),\n",
    "        \"y\": ak.sum(vec.py,axis=-1),\n",
    "        \"z\": ak.sum(vec.pz,axis=-1),\n",
    "    }\n",
    "    return ak.zip(summed_vec,with_name=\"LorentzVector\")\n",
    "check_jets = sum_4vec(events.FatJet.ConstituentsFull)\n",
    "print(check_jets.mass-events.FatJet.mass)"
   ]
  },
  {
   "cell_type": "code",
   "execution_count": null,
   "id": "07e912ad",
   "metadata": {},
   "outputs": [],
   "source": []
  }
 ],
 "metadata": {
  "kernelspec": {
   "display_name": "Python 3 (ipykernel)",
   "language": "python",
   "name": "python3"
  },
  "language_info": {
   "codemirror_mode": {
    "name": "ipython",
    "version": 3
   },
   "file_extension": ".py",
   "mimetype": "text/x-python",
   "name": "python",
   "nbconvert_exporter": "python",
   "pygments_lexer": "ipython3",
   "version": "3.9.12"
  }
 },
 "nbformat": 4,
 "nbformat_minor": 5
}
