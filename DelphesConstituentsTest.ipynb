{
 "cells": [
  {
   "cell_type": "code",
   "execution_count": 1,
   "id": "56f87943",
   "metadata": {},
   "outputs": [],
   "source": [
    "import awkward as ak\n",
    "import numpy as np\n",
    "import numba as nb\n",
    "import hist\n",
    "import matplotlib as mpl\n",
    "import matplotlib.pyplot as plt\n",
    "import mplhep as hep\n",
    "from common import load_events, DelphesSchema, test_substructure"
   ]
  },
  {
   "cell_type": "code",
   "execution_count": 2,
   "id": "7468190d",
   "metadata": {},
   "outputs": [],
   "source": [
    "# load data\n",
    "events = load_events(\n",
    "    \"models/s-channel_mmed-1000_Nc-2_Nf-2_scale-35.1539_mq-10_mpi-20_mrho-20_pvector-0.75_spectrum-cms_rinv-0.3/events.root\",\n",
    "    schema=DelphesSchema,\n",
    "    with_substructure=True\n",
    ")"
   ]
  },
  {
   "cell_type": "code",
   "execution_count": 3,
   "id": "4fd4f063",
   "metadata": {},
   "outputs": [
    {
     "name": "stdout",
     "output_type": "stream",
     "text": [
      "FatJet [[0.000565, 1.43e-06, -3.81e-06], [1.91e-05, ... [0.000404, 6.1e-05, 0.000409]]\n"
     ]
    }
   ],
   "source": [
    "test_substructure(events)"
   ]
  },
  {
   "cell_type": "code",
   "execution_count": null,
   "id": "a56af2c1",
   "metadata": {},
   "outputs": [],
   "source": []
  }
 ],
 "metadata": {
  "kernelspec": {
   "display_name": "Python 3 (ipykernel)",
   "language": "python",
   "name": "python3"
  },
  "language_info": {
   "codemirror_mode": {
    "name": "ipython",
    "version": 3
   },
   "file_extension": ".py",
   "mimetype": "text/x-python",
   "name": "python",
   "nbconvert_exporter": "python",
   "pygments_lexer": "ipython3",
   "version": "3.9.12"
  }
 },
 "nbformat": 4,
 "nbformat_minor": 5
}
