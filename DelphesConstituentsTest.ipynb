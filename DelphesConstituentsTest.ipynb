{
 "cells": [
  {
   "cell_type": "code",
   "execution_count": 1,
   "id": "56f87943",
   "metadata": {},
   "outputs": [],
   "source": [
    "import awkward as ak\n",
    "import numpy as np\n",
    "import numba as nb\n",
    "from common import load_events, DelphesSchema, test_constituents"
   ]
  },
  {
   "cell_type": "code",
   "execution_count": 2,
   "id": "7468190d",
   "metadata": {},
   "outputs": [],
   "source": [
    "events = load_events(\n",
    "    \"models/s-channel_mmed-1000_Nc-2_Nf-2_scale-35.1539_mq-10_mpi-20_mrho-20_pvector-0.75_spectrum-cms_rinv-0.3/events.root\",\n",
    "    schema=DelphesSchema,\n",
    "    with_constituents=True\n",
    ")"
   ]
  },
  {
   "cell_type": "code",
   "execution_count": 3,
   "id": "4fd4f063",
   "metadata": {},
   "outputs": [
    {
     "name": "stdout",
     "output_type": "stream",
     "text": [
      "FatJet [[-1.53e-05, 5.72e-06, -6.68e-06], [-0.000439, ... [0.000376, 0.00016, 9.01e-05]]\n",
      "Jet [[-0.477, -0.449, -1.08], [-0.282, -0.529, ... -0.285], [-0.152, -0.23, -0.409]]\n",
      "DarkHadronJet [[-0.000397, -0.000137], [-0.000755, 0.000305, ... 0.0125], [0.000107, -0.000114]]\n",
      "GenFatJet [[0.000702, 0, -5.72e-06], [0.000206, ... [0.000576, -0.000275, -0.000371]]\n",
      "GenJet [[-0.000927, -4.77e-06, 7.63e-06, -9.54e-07], ... [-0.000515, -0.000195, -3.39e-05]]\n"
     ]
    },
    {
     "name": "stderr",
     "output_type": "stream",
     "text": [
      "/cvmfs/sft.cern.ch/lcg/views/LCG_105/x86_64-el9-gcc12-opt/lib/python3.9/site-packages/awkward/_connect/_numpy.py:195: RuntimeWarning: invalid value encountered in sqrt\n",
      "  result = getattr(ufunc, method)(\n"
     ]
    }
   ],
   "source": [
    "test_constituents(events)"
   ]
  },
  {
   "cell_type": "code",
   "execution_count": 4,
   "id": "bc1d9ced",
   "metadata": {},
   "outputs": [
    {
     "name": "stdout",
     "output_type": "stream",
     "text": [
      "FatJet [[[0.494, -5.96e-08, 0.494, 0, 0.14, ... -3.37e-07, 8.43e-08, 0.14, 0, 3.37e-07]]] [[[-321, 0, 321, 0, 211, 211, -321, -211, 0, 211, ... [0, 0, 0, 0, 0, 211, 0, 0]]] [[67.4, 10.4, 9.11], [61.4, 29.1], ... 56.6, 11.4, 3.53], [25.2, 45.3, 4.55]] [[67.4, 10.4, 9.11], [61.4, 29.1], ... 56.6, 11.4, 3.53], [25.2, 45.3, 4.55]] [[-1.53e-05, 5.72e-06, -6.68e-06], [-0.000439, ... [0.000376, 0.00016, 9.01e-05]]\n",
      "Jet [[[0.14, 0.14, 0, -5.96e-08, 1.69e-07, ... -3.37e-07, 8.43e-08, 0.14, 0, 3.37e-07]]] [[[211, 211, 22, 22, 22, -211, -211, 22, 321, -2212, ... 22], [0, 0, 0, 211, 0, 0]]] [[37.4, 4.69, 7.69], [41.2, 24.9], ... 46.6, 5.29, 1.74], [17.4, 19.5, 3.13]] [[37.9, 5.14, 8.77], [41.5, 25.4], ... 46.9, 5.82, 2.03], [17.6, 19.7, 3.54]] [[-0.477, -0.449, -1.08], [-0.282, -0.529, ... -0.285], [-0.152, -0.23, -0.409]]\n",
      "DarkHadronJet [[[20, 20, 20, 20], [20, 20]], [[20, 20, 20, ... [20]], [[20, 20], [20, 20, 20]]] [[[4900213, 4900113, -4900213, 4900211], ... [4900213, -4900213, 4900211]]] [[121, 91.4], [87.5, 98], [57.4, 54.5], ... 95.8, 43.6, 20], [105, 20], [86.6, 97.6]] [[121, 91.4], [87.5, 98], [57.4, 54.5], ... 95.8, 43.6, 20], [105, 20], [86.6, 97.6]] [[-0.000397, -0.000137], [-0.000755, 0.000305, ... 0.0125], [0.000107, -0.000114]]\n",
      "GenFatJet [[[0.494, 0, 0.14, 0.494, 0, 0, 0.14, ... 0, 0.14, 0.14, 0.14, 0.938, 0.14, 0.14]]] [[[-321, 22, 211, 321, 22, 22, 211, 22, ... 22, 211, -211, -211, -2212, 211, 211]]] [[74.4, 9.73, 9.57], [73.3, 29.2, 9.59], ... 61.1, 11.8, 10.3], [33.8, 52.4, 9.61]] [[74.4, 9.73, 9.57], [73.3, 29.2, 9.59], ... 61.1, 11.8, 10.3], [33.8, 52.4, 9.61]] [[0.000702, 0, -5.72e-06], [0.000206, ... [0.000576, -0.000275, -0.000371]]\n",
      "GenJet [[[0, 0, 0.14, 0.14, 0, 0, 0.14, 0.14, ... [0, 0.14, 0.14, 0.14, 0.938, 0.14, 0.14]]] [[[22, 22, 211, 211, 22, 22, -211, -211, ... [22, 211, -211, -211, -2212, 211, 211]]] [[35.4, 5.14, 5.38, 7.73], [38.6, 24.1, ... 47.3, 6.21, 4.17], [20.9, 29.9, 4.2]] [[35.4, 5.14, 5.38, 7.73], [38.6, 24.1, ... 47.3, 6.21, 4.17], [20.9, 29.9, 4.2]] [[-0.000927, -4.77e-06, 7.63e-06, -9.54e-07], ... [-0.000515, -0.000195, -3.39e-05]]\n"
     ]
    }
   ],
   "source": [
    "from common import sum_4vec, DelphesSchema2\n",
    "def test_constituents(events):\n",
    "    for jet in DelphesSchema2.jet_const_pairs:\n",
    "        check_jets = sum_4vec(events[jet,\"Constituents\"])\n",
    "        print(jet, events[jet,\"Constituents\"].mass, events[jet,\"Constituents\"].PID, check_jets.mass, events[jet].mass, check_jets.mass-events[jet].mass)\n",
    "test_constituents(events)"
   ]
  },
  {
   "cell_type": "code",
   "execution_count": null,
   "id": "2cef99e3",
   "metadata": {},
   "outputs": [],
   "source": []
  }
 ],
 "metadata": {
  "kernelspec": {
   "display_name": "Python 3 (ipykernel)",
   "language": "python",
   "name": "python3"
  },
  "language_info": {
   "codemirror_mode": {
    "name": "ipython",
    "version": 3
   },
   "file_extension": ".py",
   "mimetype": "text/x-python",
   "name": "python",
   "nbconvert_exporter": "python",
   "pygments_lexer": "ipython3",
   "version": "3.9.12"
  }
 },
 "nbformat": 4,
 "nbformat_minor": 5
}
